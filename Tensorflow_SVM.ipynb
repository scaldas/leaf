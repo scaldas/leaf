{
 "cells": [
  {
   "cell_type": "code",
   "execution_count": 1,
   "metadata": {},
   "outputs": [
    {
     "name": "stderr",
     "output_type": "stream",
     "text": [
      "/anaconda/envs/tensorflow/lib/python3.5/site-packages/h5py/__init__.py:36: FutureWarning: Conversion of the second argument of issubdtype from `float` to `np.floating` is deprecated. In future, it will be treated as `np.float64 == np.dtype(float).type`.\n",
      "  from ._conv import register_converters as _register_converters\n"
     ]
    }
   ],
   "source": [
    "import tensorflow as tf\n",
    "import numpy as np"
   ]
  },
  {
   "cell_type": "code",
   "execution_count": 2,
   "metadata": {},
   "outputs": [],
   "source": [
    "n = 10\n",
    "x_train = np.random.multivariate_normal(np.array([0,0]), np.identity(2), n)\n",
    "noise = np.random.normal(0,1, n)\n",
    "w_star = np.array([-2,4])\n",
    "y_train = np.zeros(np.shape(x_train)[0])"
   ]
  },
  {
   "cell_type": "code",
   "execution_count": 3,
   "metadata": {},
   "outputs": [],
   "source": [
    "def tf_svm(x_train, y_train, batch, epoch):\n",
    "    example_id = np.array(['%d' % i for i in range(len(y_train))])\n",
    "\n",
    "    x_column_name = 'x'\n",
    "    example_id_column_name = 'example_id'\n",
    "\n",
    "    train_input_fn = tf.estimator.inputs.numpy_input_fn(\n",
    "        x={x_column_name: x_train, example_id_column_name: example_id},\n",
    "        y=y_train,\n",
    "        batch_size = batch,\n",
    "        num_epochs=None, #couldn't change it to things other than 10 yet...\n",
    "        shuffle=True)\n",
    "\n",
    "    svm = tf.contrib.learn.SVM(\n",
    "        example_id_column=example_id_column_name,\n",
    "        feature_columns=(tf.contrib.layers.real_valued_column(\n",
    "            column_name=x_column_name, dimension=128),),\n",
    "        l2_regularization=0.1)\n",
    "\n",
    "    svm.fit(input_fn=train_input_fn, steps=10)    \n",
    "    \n",
    "    return np.vstack((svm.get_variable_value('linear/bias_weight'), svm.get_variable_value('linear/x/weight'))) #first term is bias"
   ]
  },
  {
   "cell_type": "code",
   "execution_count": 6,
   "metadata": {},
   "outputs": [
    {
     "name": "stdout",
     "output_type": "stream",
     "text": [
      "INFO:tensorflow:Using default config.\n",
      "WARNING:tensorflow:Using temporary folder as model directory: /var/folders/8m/4v8x5dzn2nz8dccxgswl_68r0000gn/T/tmp0588nzuq\n",
      "INFO:tensorflow:Using config: {'_task_type': None, '_master': '', '_is_chief': True, '_keep_checkpoint_every_n_hours': 10000, '_model_dir': '/var/folders/8m/4v8x5dzn2nz8dccxgswl_68r0000gn/T/tmp0588nzuq', '_save_checkpoints_steps': None, '_num_ps_replicas': 0, '_log_step_count_steps': 100, '_tf_config': gpu_options {\n",
      "  per_process_gpu_memory_fraction: 1.0\n",
      "}\n",
      ", '_cluster_spec': <tensorflow.python.training.server_lib.ClusterSpec object at 0x11cdd6128>, '_environment': 'local', '_session_config': None, '_keep_checkpoint_max': 5, '_save_summary_steps': 100, '_evaluation_master': '', '_save_checkpoints_secs': 600, '_task_id': 0, '_tf_random_seed': None, '_num_worker_replicas': 0}\n",
      "WARNING:tensorflow:tf.variable_op_scope(values, name, default_name) is deprecated, use tf.variable_scope(name, default_name, values)\n",
      "INFO:tensorflow:Created variable linear/bias_weight:0, with device=\n",
      "INFO:tensorflow:Create CheckpointSaverHook.\n",
      "INFO:tensorflow:Saving checkpoints for 1 into /var/folders/8m/4v8x5dzn2nz8dccxgswl_68r0000gn/T/tmp0588nzuq/model.ckpt.\n",
      "INFO:tensorflow:loss = 1.0, step = 1\n",
      "INFO:tensorflow:Saving checkpoints for 10 into /var/folders/8m/4v8x5dzn2nz8dccxgswl_68r0000gn/T/tmp0588nzuq/model.ckpt.\n",
      "INFO:tensorflow:Loss for final step: 0.00018472671.\n"
     ]
    },
    {
     "data": {
      "text/plain": [
       "array([[-1.0000597 ],\n",
       "       [-0.01962948],\n",
       "       [-0.00699066]], dtype=float32)"
      ]
     },
     "execution_count": 6,
     "metadata": {},
     "output_type": "execute_result"
    }
   ],
   "source": [
    "tf_svm(x_train, y_train, 10, 10)"
   ]
  },
  {
   "cell_type": "code",
   "execution_count": null,
   "metadata": {},
   "outputs": [],
   "source": []
  }
 ],
 "metadata": {
  "kernelspec": {
   "display_name": "Python 3",
   "language": "python",
   "name": "python3"
  },
  "language_info": {
   "codemirror_mode": {
    "name": "ipython",
    "version": 3
   },
   "file_extension": ".py",
   "mimetype": "text/x-python",
   "name": "python",
   "nbconvert_exporter": "python",
   "pygments_lexer": "ipython3",
   "version": "3.5.4"
  }
 },
 "nbformat": 4,
 "nbformat_minor": 2
}
